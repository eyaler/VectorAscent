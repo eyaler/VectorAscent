{
  "nbformat": 4,
  "nbformat_minor": 0,
  "metadata": {
    "colab": {
      "name": "VectorAscent",
      "private_outputs": true,
      "provenance": [],
      "collapsed_sections": [],
      "machine_shape": "hm",
      "authorship_tag": "ABX9TyMwKxt+8O90iqGn3aJOS238",
      "include_colab_link": true
    },
    "kernelspec": {
      "name": "python3",
      "display_name": "Python 3"
    },
    "language_info": {
      "name": "python"
    },
    "accelerator": "GPU"
  },
  "cells": [
    {
      "cell_type": "markdown",
      "metadata": {
        "id": "view-in-github",
        "colab_type": "text"
      },
      "source": [
        "<a href=\"https://colab.research.google.com/github/eyaler/VectorAscent/blob/master/VectorAscent.ipynb\" target=\"_parent\"><img src=\"https://colab.research.google.com/assets/colab-badge.svg\" alt=\"Open In Colab\"/></a>"
      ]
    },
    {
      "cell_type": "markdown",
      "metadata": {
        "id": "MeYArpYJdxrp"
      },
      "source": [
        "# **VectorAscent**\n",
        "## A colab for https://github.com/ajayjain/VectorAscent\n",
        "\n",
        "### Made just a little bit more accessible by Eyal Gruss [@eyaler](https://twitter.com/eyaler) [eyalgruss.com](https://eyalgruss.com)\n",
        "\n",
        "Other CLIP notebooks: https://www.reddit.com/r/MachineLearning/comments/ldc6oc/p_list_of_sitesprogramsprojects_that_use_openais\n",
        "\n",
        "A curated list of more online generative tools see: [j.mp/generativetools](https://j.mp/generativetools)"
      ]
    },
    {
      "cell_type": "code",
      "metadata": {
        "id": "muI3OvxeaIAq",
        "cellView": "form"
      },
      "source": [
        "#@title Setup\n",
        "%cd /content/\n",
        "!git clone https://github.com/eyaler/VectorAscent\n",
        "!git clone https://github.com/BachiLi/diffvg\n",
        "%cd /content/diffvg\n",
        "!git submodule update --init --recursive\n",
        "!pip install svgwrite\n",
        "!pip install svgpathtools\n",
        "!pip install cssutils\n",
        "!pip install torch-tools\n",
        "!pip install visdom\n",
        "!python setup.py install\n",
        "!pip install git+https://github.com/openai/CLIP"
      ],
      "execution_count": null,
      "outputs": []
    },
    {
      "cell_type": "code",
      "metadata": {
        "id": "N2Po9an8Z1td",
        "cellView": "form"
      },
      "source": [
        "#@title Generate!\n",
        "prompt = 'The word LOVE' #@param {type:\"string\"}\n",
        "iterations = 1000#@param {type:\"integer\"}\n",
        "iter_extra = 2000#@param {type:\"integer\"}\n",
        "use_blob = False #@param {type:\"boolean\"}\n",
        "num_paths = 4#@param {type:\"integer\"}\n",
        "extra_segments = 1#@param {type:\"integer\"}\n",
        "step = 1#@param {type:\"integer\"}\n",
        "max_width = 2 #@param {type:\"number\"}\n",
        "margin = 0.2 #@param {type:\"number\"}\n",
        "min_trans = 0.1 #@param {type:\"number\"}\n",
        "final_res = 512 #@param {type:\"integer\"}\n",
        "points_lr = 1 #@param {type:\"number\"}\n",
        "width_lr = 0.1 #@param {type:\"number\"}\n",
        "color_lr = 0.01 #@param {type:\"number\"}\n",
        "seed =  23#@param {type:\"integer\"}\n",
        "\n",
        "use_blob_arg = '--use_blob' if use_blob else ''\n",
        "outdir = '/content/VectorAscent/results/text_to_painting/'+prompt+'/default/'\n",
        "!rm -rf \"$outdir\"\n",
        "%cd /content/VectorAscent\n",
        "!python text_to_painting.py --prompt \"$prompt\" --num_iter $iterations --iter_extra $iter_extra --step $step $use_blob_arg --num_paths $num_paths --max_width $max_width --margin $margin --final_px $final_res --points_lr $points_lr --width_lr $width_lr --color_lr $color_lr --seed $seed\n",
        "from IPython.display import HTML, Image, clear_output\n",
        "from base64 import b64encode\n",
        "vidfile = outdir+'out.mp4'\n",
        "!ffmpeg -i \"$vidfile\" -c:v libx264 -pix_fmt yuv420p -profile:v baseline -movflags +faststart /content/out.mp4 -y\n",
        "clear_output()\n",
        "display(Image(outdir+'cosine_sim.png'))\n",
        "display(Image(outdir+'final.png'))\n",
        "with open('/content/out.mp4', 'rb') as f:\n",
        "  data_url = \"data:video/mp4;base64,\" + b64encode(f.read()).decode()\n",
        "display(HTML(\"\"\"\n",
        "  <video controls autoplay loop>\n",
        "        <source src=\"%s\" type=\"video/mp4\">\n",
        "  </video>\"\"\" % data_url))\n"
      ],
      "execution_count": null,
      "outputs": []
    }
  ]
}